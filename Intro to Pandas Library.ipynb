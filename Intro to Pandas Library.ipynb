{
 "cells": [
  {
   "cell_type": "markdown",
   "metadata": {},
   "source": [
    "# Imports"
   ]
  },
  {
   "cell_type": "code",
   "execution_count": 29,
   "metadata": {
    "collapsed": true
   },
   "outputs": [],
   "source": [
    "# Always import pandas as pd, standard way of importing. \n",
    "import pandas as pd\n",
    "\n",
    "# I have a custom script in this dir which stores ('pickles') python\n",
    "# objects into files. \n",
    "import pickle_funcs as pk "
   ]
  },
  {
   "cell_type": "markdown",
   "metadata": {},
   "source": [
    "# Pickle Functions\n"
   ]
  },
  {
   "cell_type": "markdown",
   "metadata": {},
   "source": [
    "Pickle library allows for Python objects to be saved as files, which can be handy sometimes when working with spreadsheets. I've written a small script which uses the library and makes this easier. \n",
    "\n",
    "Use the command\n",
    "\n",
    "```Python\n",
    "pk.pickle_object(any_python_object, 'filename', test=True)\n",
    "```\n",
    "\n",
    "to pickle any_python_object as 'filename.pickle' (don't include the extension). By default the function makes sure that the object was correctly pickeled by reloading it and comparing the reloaded version to the original. Sometimes the test doesn't work, e.g. when comparing two Pandas dataframes, therefore it can be disabeled by using `test=False`. \n",
    "\n",
    "To load (unpickle) an object: \n",
    "\n",
    "```Python\n",
    "loaded_object = pk.unpickle_object('filename')\n",
    "```\n",
    "\n",
    "Note that it isn't necessary to type the extentions after `filename.` This simply loads the saved object into the script. "
   ]
  },
  {
   "cell_type": "markdown",
   "metadata": {},
   "source": [
    "# Loading a CSV File"
   ]
  },
  {
   "cell_type": "markdown",
   "metadata": {},
   "source": [
    "I have a sample csv file which is an export from NOAA weather data. It has been cut down in length to serve as a better example. \n",
    "\n",
    "To load a CSV into a [Pandas Dataframe](http://pandas.pydata.org/pandas-docs/stable/generated/pandas.DataFrame.html), (a dataframe is the central Pandas object type, it is sort of like a spreadsheet), use the [pd.read_csv()](http://pandas.pydata.org/pandas-docs/stable/generated/pandas.read_csv.html) function as below:"
   ]
  },
  {
   "cell_type": "code",
   "execution_count": 40,
   "metadata": {
    "collapsed": true
   },
   "outputs": [],
   "source": [
    "# Note that calling the main dataframe 'df' is a defacto standard.\n",
    "df = pd.read_csv('sample_data.csv')"
   ]
  },
  {
   "cell_type": "code",
   "execution_count": 6,
   "metadata": {
    "collapsed": false
   },
   "outputs": [
    {
     "data": {
      "text/html": [
       "<div>\n",
       "<table border=\"1\" class=\"dataframe\">\n",
       "  <thead>\n",
       "    <tr style=\"text-align: right;\">\n",
       "      <th></th>\n",
       "      <th>ELEVATION</th>\n",
       "      <th>LATITUDE</th>\n",
       "      <th>LONGITUDE</th>\n",
       "      <th>DATE</th>\n",
       "      <th>PRCP</th>\n",
       "      <th>Time of Observation</th>\n",
       "      <th>SNWD</th>\n",
       "      <th>Time of Observation.1</th>\n",
       "      <th>SNOW</th>\n",
       "      <th>Time of Observation.2</th>\n",
       "    </tr>\n",
       "  </thead>\n",
       "  <tbody>\n",
       "    <tr>\n",
       "      <th>count</th>\n",
       "      <td>1064.0</td>\n",
       "      <td>1.064000e+03</td>\n",
       "      <td>1.064000e+03</td>\n",
       "      <td>1.064000e+03</td>\n",
       "      <td>1064.000000</td>\n",
       "      <td>1064.0</td>\n",
       "      <td>1064.000000</td>\n",
       "      <td>1064.0</td>\n",
       "      <td>1064.000000</td>\n",
       "      <td>1064.0</td>\n",
       "    </tr>\n",
       "    <tr>\n",
       "      <th>mean</th>\n",
       "      <td>766.0</td>\n",
       "      <td>3.773700e+01</td>\n",
       "      <td>-1.000294e+02</td>\n",
       "      <td>2.007572e+07</td>\n",
       "      <td>0.064793</td>\n",
       "      <td>9999.0</td>\n",
       "      <td>-9218.890508</td>\n",
       "      <td>9999.0</td>\n",
       "      <td>-253.687124</td>\n",
       "      <td>9999.0</td>\n",
       "    </tr>\n",
       "    <tr>\n",
       "      <th>std</th>\n",
       "      <td>0.0</td>\n",
       "      <td>4.336349e-13</td>\n",
       "      <td>4.976138e-13</td>\n",
       "      <td>9.708247e+03</td>\n",
       "      <td>0.263675</td>\n",
       "      <td>0.0</td>\n",
       "      <td>2683.213417</td>\n",
       "      <td>0.0</td>\n",
       "      <td>1573.230999</td>\n",
       "      <td>0.0</td>\n",
       "    </tr>\n",
       "    <tr>\n",
       "      <th>min</th>\n",
       "      <td>766.0</td>\n",
       "      <td>3.773700e+01</td>\n",
       "      <td>-1.000294e+02</td>\n",
       "      <td>2.006060e+07</td>\n",
       "      <td>0.000000</td>\n",
       "      <td>9999.0</td>\n",
       "      <td>-9999.000000</td>\n",
       "      <td>9999.0</td>\n",
       "      <td>-9999.000000</td>\n",
       "      <td>9999.0</td>\n",
       "    </tr>\n",
       "    <tr>\n",
       "      <th>25%</th>\n",
       "      <td>766.0</td>\n",
       "      <td>3.773700e+01</td>\n",
       "      <td>-1.000294e+02</td>\n",
       "      <td>2.007032e+07</td>\n",
       "      <td>0.000000</td>\n",
       "      <td>9999.0</td>\n",
       "      <td>-9999.000000</td>\n",
       "      <td>9999.0</td>\n",
       "      <td>0.000000</td>\n",
       "      <td>9999.0</td>\n",
       "    </tr>\n",
       "    <tr>\n",
       "      <th>50%</th>\n",
       "      <td>766.0</td>\n",
       "      <td>3.773700e+01</td>\n",
       "      <td>-1.000294e+02</td>\n",
       "      <td>2.008011e+07</td>\n",
       "      <td>0.000000</td>\n",
       "      <td>9999.0</td>\n",
       "      <td>-9999.000000</td>\n",
       "      <td>9999.0</td>\n",
       "      <td>0.000000</td>\n",
       "      <td>9999.0</td>\n",
       "    </tr>\n",
       "    <tr>\n",
       "      <th>75%</th>\n",
       "      <td>766.0</td>\n",
       "      <td>3.773700e+01</td>\n",
       "      <td>-1.000294e+02</td>\n",
       "      <td>2.008101e+07</td>\n",
       "      <td>0.000000</td>\n",
       "      <td>9999.0</td>\n",
       "      <td>-9999.000000</td>\n",
       "      <td>9999.0</td>\n",
       "      <td>0.000000</td>\n",
       "      <td>9999.0</td>\n",
       "    </tr>\n",
       "    <tr>\n",
       "      <th>max</th>\n",
       "      <td>766.0</td>\n",
       "      <td>3.773700e+01</td>\n",
       "      <td>-1.000294e+02</td>\n",
       "      <td>2.009080e+07</td>\n",
       "      <td>3.280000</td>\n",
       "      <td>9999.0</td>\n",
       "      <td>12.000000</td>\n",
       "      <td>9999.0</td>\n",
       "      <td>10.000000</td>\n",
       "      <td>9999.0</td>\n",
       "    </tr>\n",
       "  </tbody>\n",
       "</table>\n",
       "</div>"
      ],
      "text/plain": [
       "       ELEVATION      LATITUDE     LONGITUDE          DATE         PRCP  \\\n",
       "count     1064.0  1.064000e+03  1.064000e+03  1.064000e+03  1064.000000   \n",
       "mean       766.0  3.773700e+01 -1.000294e+02  2.007572e+07     0.064793   \n",
       "std          0.0  4.336349e-13  4.976138e-13  9.708247e+03     0.263675   \n",
       "min        766.0  3.773700e+01 -1.000294e+02  2.006060e+07     0.000000   \n",
       "25%        766.0  3.773700e+01 -1.000294e+02  2.007032e+07     0.000000   \n",
       "50%        766.0  3.773700e+01 -1.000294e+02  2.008011e+07     0.000000   \n",
       "75%        766.0  3.773700e+01 -1.000294e+02  2.008101e+07     0.000000   \n",
       "max        766.0  3.773700e+01 -1.000294e+02  2.009080e+07     3.280000   \n",
       "\n",
       "       Time of Observation         SNWD  Time of Observation.1         SNOW  \\\n",
       "count               1064.0  1064.000000                 1064.0  1064.000000   \n",
       "mean                9999.0 -9218.890508                 9999.0  -253.687124   \n",
       "std                    0.0  2683.213417                    0.0  1573.230999   \n",
       "min                 9999.0 -9999.000000                 9999.0 -9999.000000   \n",
       "25%                 9999.0 -9999.000000                 9999.0     0.000000   \n",
       "50%                 9999.0 -9999.000000                 9999.0     0.000000   \n",
       "75%                 9999.0 -9999.000000                 9999.0     0.000000   \n",
       "max                 9999.0    12.000000                 9999.0    10.000000   \n",
       "\n",
       "       Time of Observation.2  \n",
       "count                 1064.0  \n",
       "mean                  9999.0  \n",
       "std                      0.0  \n",
       "min                   9999.0  \n",
       "25%                   9999.0  \n",
       "50%                   9999.0  \n",
       "75%                   9999.0  \n",
       "max                   9999.0  "
      ]
     },
     "execution_count": 6,
     "metadata": {},
     "output_type": "execute_result"
    }
   ],
   "source": [
    "df.describe()"
   ]
  },
  {
   "cell_type": "markdown",
   "metadata": {},
   "source": [
    "I've loaded the dataframe and use the [describe()](http://pandas.pydata.org/pandas-docs/stable/generated/pandas.DataFrame.describe.html?highlight=dataframe%20describe#pandas.DataFrame.describe) method to show the columns and some basic data about each column."
   ]
  },
  {
   "cell_type": "markdown",
   "metadata": {},
   "source": [
    "# Basic dataframe attributes "
   ]
  },
  {
   "cell_type": "markdown",
   "metadata": {},
   "source": [
    "Need to memorize the #bk pandas cheatsheet pdf. "
   ]
  },
  {
   "cell_type": "markdown",
   "metadata": {},
   "source": [
    "# Writing a CSV File"
   ]
  },
  {
   "cell_type": "markdown",
   "metadata": {},
   "source": [
    "Call the [to_csv](http://pandas.pydata.org/pandas-docs/stable/generated/pandas.DataFrame.to_csv.html) method on a ddf to write to csv. "
   ]
  },
  {
   "cell_type": "code",
   "execution_count": 43,
   "metadata": {
    "collapsed": false
   },
   "outputs": [],
   "source": [
    "with open('output.csv', 'w+') as f:\n",
    "    f.write(df.to_csv())"
   ]
  },
  {
   "cell_type": "markdown",
   "metadata": {},
   "source": [
    "# Misc Functions "
   ]
  },
  {
   "cell_type": "markdown",
   "metadata": {},
   "source": [
    "## Sort a DataFrame"
   ]
  },
  {
   "cell_type": "markdown",
   "metadata": {},
   "source": [
    "The method [sort_values()](http://pandas.pydata.org/pandas-docs/stable/generated/pandas.DataFrame.sort_values.html) can be called on a dataframe.  By default it sorts by the values of specified column. Can set `inplace=True` when calling to modify the df, otherwise it will return a new dataframe."
   ]
  },
  {
   "cell_type": "code",
   "execution_count": 11,
   "metadata": {
    "collapsed": false
   },
   "outputs": [],
   "source": [
    "df.sort_values(by=['PRCP'], inplace=True)"
   ]
  },
  {
   "cell_type": "markdown",
   "metadata": {},
   "source": [
    "## View Length of a DataFrame\n"
   ]
  },
  {
   "cell_type": "markdown",
   "metadata": {},
   "source": [
    "Simply use the len() function. Returns length of df, excluding header row. "
   ]
  },
  {
   "cell_type": "code",
   "execution_count": 12,
   "metadata": {
    "collapsed": false
   },
   "outputs": [
    {
     "data": {
      "text/plain": [
       "1064"
      ]
     },
     "execution_count": 12,
     "metadata": {},
     "output_type": "execute_result"
    }
   ],
   "source": [
    "len(df)"
   ]
  },
  {
   "cell_type": "markdown",
   "metadata": {},
   "source": [
    "## Replace certain values in DF "
   ]
  },
  {
   "cell_type": "markdown",
   "metadata": {},
   "source": [
    "Use the [replace()](http://pandas.pydata.org/pandas-docs/stable/generated/pandas.DataFrame.replace.html) method. The `value='xxx'` will replace all values in the replace_list. "
   ]
  },
  {
   "cell_type": "code",
   "execution_count": 42,
   "metadata": {
    "collapsed": true
   },
   "outputs": [],
   "source": [
    "replace_list = [\n",
    "    '-9999.00', -9999.00, '-9999.0', -9999.0, '-9999',\n",
    "    -9999, '9999', 9999\n",
    "]\n",
    "\n",
    "df = df.replace(to_replace=replace_list, value='NaN');"
   ]
  },
  {
   "cell_type": "markdown",
   "metadata": {},
   "source": [
    "## Drop columns in df"
   ]
  },
  {
   "cell_type": "markdown",
   "metadata": {},
   "source": [
    "Use the [drop()](http://pandas.pydata.org/pandas-docs/stable/generated/pandas.DataFrame.drop.html) method to drop certain columns, based on name. Must use axis=1 in order to drop columns. "
   ]
  },
  {
   "cell_type": "code",
   "execution_count": 14,
   "metadata": {
    "collapsed": true
   },
   "outputs": [],
   "source": [
    "drop_values = [\n",
    "    'ELEVATION',\n",
    "    'STATION',\n",
    "    'LATITUDE',\n",
    "    'LONGITUDE'\n",
    "]\n",
    "df.drop(drop_values, inplace=True, axis=1)"
   ]
  },
  {
   "cell_type": "markdown",
   "metadata": {},
   "source": [
    "## Select certain columns in df"
   ]
  },
  {
   "cell_type": "markdown",
   "metadata": {},
   "source": [
    "Simply use column selection and set df equal to new df. "
   ]
  },
  {
   "cell_type": "code",
   "execution_count": 16,
   "metadata": {
    "collapsed": false
   },
   "outputs": [],
   "source": [
    "columns = [\n",
    "    'DATE',\n",
    "    'PRCP',\n",
    "    'SNWD'\n",
    "]\n",
    "df = df[columns]"
   ]
  },
  {
   "cell_type": "markdown",
   "metadata": {},
   "source": [
    "## Drop certain rows in a df based on value"
   ]
  },
  {
   "cell_type": "markdown",
   "metadata": {},
   "source": [
    "One way of doing it is just filter for certain values. "
   ]
  },
  {
   "cell_type": "code",
   "execution_count": 31,
   "metadata": {
    "collapsed": false
   },
   "outputs": [
    {
     "data": {
      "text/plain": [
       "1064"
      ]
     },
     "execution_count": 31,
     "metadata": {},
     "output_type": "execute_result"
    }
   ],
   "source": [
    "len(df)"
   ]
  },
  {
   "cell_type": "code",
   "execution_count": 44,
   "metadata": {
    "collapsed": false
   },
   "outputs": [],
   "source": [
    "df = df[df.SNWD != 0] \n",
    "df = df[df.SNWD != 'NaN'] \n",
    "# Drop rows in df which have zero vales in SNWD"
   ]
  },
  {
   "cell_type": "code",
   "execution_count": 45,
   "metadata": {
    "collapsed": false
   },
   "outputs": [
    {
     "data": {
      "text/plain": [
       "35"
      ]
     },
     "execution_count": 45,
     "metadata": {},
     "output_type": "execute_result"
    }
   ],
   "source": [
    "len(df)"
   ]
  },
  {
   "cell_type": "markdown",
   "metadata": {},
   "source": [
    "There may very well be a better way of doing this. Need to reserach "
   ]
  },
  {
   "cell_type": "markdown",
   "metadata": {},
   "source": [
    "## Force types on column"
   ]
  },
  {
   "cell_type": "code",
   "execution_count": 49,
   "metadata": {
    "collapsed": false
   },
   "outputs": [
    {
     "data": {
      "text/html": [
       "<div>\n",
       "<table border=\"1\" class=\"dataframe\">\n",
       "  <thead>\n",
       "    <tr style=\"text-align: right;\">\n",
       "      <th></th>\n",
       "      <th>name</th>\n",
       "      <th>reports</th>\n",
       "      <th>year</th>\n",
       "    </tr>\n",
       "  </thead>\n",
       "  <tbody>\n",
       "    <tr>\n",
       "      <th>Cochice</th>\n",
       "      <td>Jason</td>\n",
       "      <td>04</td>\n",
       "      <td>2012</td>\n",
       "    </tr>\n",
       "    <tr>\n",
       "      <th>Pima</th>\n",
       "      <td>Molly</td>\n",
       "      <td>024</td>\n",
       "      <td>2012</td>\n",
       "    </tr>\n",
       "    <tr>\n",
       "      <th>Santa Cruz</th>\n",
       "      <td>Tina</td>\n",
       "      <td>31</td>\n",
       "      <td>2013</td>\n",
       "    </tr>\n",
       "    <tr>\n",
       "      <th>Maricopa</th>\n",
       "      <td>Jake</td>\n",
       "      <td>2</td>\n",
       "      <td>2014</td>\n",
       "    </tr>\n",
       "    <tr>\n",
       "      <th>Yuma</th>\n",
       "      <td>Amy</td>\n",
       "      <td>3</td>\n",
       "      <td>2014</td>\n",
       "    </tr>\n",
       "  </tbody>\n",
       "</table>\n",
       "</div>"
      ],
      "text/plain": [
       "             name reports  year\n",
       "Cochice     Jason      04  2012\n",
       "Pima        Molly     024  2012\n",
       "Santa Cruz   Tina      31  2013\n",
       "Maricopa     Jake       2  2014\n",
       "Yuma          Amy       3  2014"
      ]
     },
     "execution_count": 49,
     "metadata": {},
     "output_type": "execute_result"
    }
   ],
   "source": [
    "data = {'name': ['Jason', 'Molly', 'Tina', 'Jake', 'Amy'],\n",
    "        'year': [2012, 2012, 2013, 2014, 2014],\n",
    "        'reports': ['04', '024', 31, 2, 3]}\n",
    "df2 = pd.DataFrame(data, index = ['Cochice', 'Pima', 'Santa Cruz', 'Maricopa', 'Yuma'])\n",
    "df2\n"
   ]
  },
  {
   "cell_type": "code",
   "execution_count": 50,
   "metadata": {
    "collapsed": false
   },
   "outputs": [
    {
     "data": {
      "text/html": [
       "<div>\n",
       "<table border=\"1\" class=\"dataframe\">\n",
       "  <thead>\n",
       "    <tr style=\"text-align: right;\">\n",
       "      <th></th>\n",
       "      <th>year</th>\n",
       "    </tr>\n",
       "  </thead>\n",
       "  <tbody>\n",
       "    <tr>\n",
       "      <th>count</th>\n",
       "      <td>5.0</td>\n",
       "    </tr>\n",
       "    <tr>\n",
       "      <th>mean</th>\n",
       "      <td>2013.0</td>\n",
       "    </tr>\n",
       "    <tr>\n",
       "      <th>std</th>\n",
       "      <td>1.0</td>\n",
       "    </tr>\n",
       "    <tr>\n",
       "      <th>min</th>\n",
       "      <td>2012.0</td>\n",
       "    </tr>\n",
       "    <tr>\n",
       "      <th>25%</th>\n",
       "      <td>2012.0</td>\n",
       "    </tr>\n",
       "    <tr>\n",
       "      <th>50%</th>\n",
       "      <td>2013.0</td>\n",
       "    </tr>\n",
       "    <tr>\n",
       "      <th>75%</th>\n",
       "      <td>2014.0</td>\n",
       "    </tr>\n",
       "    <tr>\n",
       "      <th>max</th>\n",
       "      <td>2014.0</td>\n",
       "    </tr>\n",
       "  </tbody>\n",
       "</table>\n",
       "</div>"
      ],
      "text/plain": [
       "         year\n",
       "count     5.0\n",
       "mean   2013.0\n",
       "std       1.0\n",
       "min    2012.0\n",
       "25%    2012.0\n",
       "50%    2013.0\n",
       "75%    2014.0\n",
       "max    2014.0"
      ]
     },
     "execution_count": 50,
     "metadata": {},
     "output_type": "execute_result"
    }
   ],
   "source": [
    "df2.describe()"
   ]
  },
  {
   "cell_type": "markdown",
   "metadata": {},
   "source": [
    "Here, the reports column isn't taken as a column of numbers because of the leading zeros. Can use the [astype()](http://pandas.pydata.org/pandas-docs/stable/generated/pandas.DataFrame.astype.html) method on the df to force to a number on the `reports` column and to change the `year` column to a column of strings. "
   ]
  },
  {
   "cell_type": "code",
   "execution_count": 51,
   "metadata": {
    "collapsed": true
   },
   "outputs": [],
   "source": [
    "df2['reports'] = df2['reports'].astype(int)\n",
    "df2['year'] = df2['year'].astype(str)"
   ]
  },
  {
   "cell_type": "code",
   "execution_count": 53,
   "metadata": {
    "collapsed": false
   },
   "outputs": [
    {
     "data": {
      "text/html": [
       "<div>\n",
       "<table border=\"1\" class=\"dataframe\">\n",
       "  <thead>\n",
       "    <tr style=\"text-align: right;\">\n",
       "      <th></th>\n",
       "      <th>reports</th>\n",
       "    </tr>\n",
       "  </thead>\n",
       "  <tbody>\n",
       "    <tr>\n",
       "      <th>count</th>\n",
       "      <td>5.000000</td>\n",
       "    </tr>\n",
       "    <tr>\n",
       "      <th>mean</th>\n",
       "      <td>12.800000</td>\n",
       "    </tr>\n",
       "    <tr>\n",
       "      <th>std</th>\n",
       "      <td>13.663821</td>\n",
       "    </tr>\n",
       "    <tr>\n",
       "      <th>min</th>\n",
       "      <td>2.000000</td>\n",
       "    </tr>\n",
       "    <tr>\n",
       "      <th>25%</th>\n",
       "      <td>3.000000</td>\n",
       "    </tr>\n",
       "    <tr>\n",
       "      <th>50%</th>\n",
       "      <td>4.000000</td>\n",
       "    </tr>\n",
       "    <tr>\n",
       "      <th>75%</th>\n",
       "      <td>24.000000</td>\n",
       "    </tr>\n",
       "    <tr>\n",
       "      <th>max</th>\n",
       "      <td>31.000000</td>\n",
       "    </tr>\n",
       "  </tbody>\n",
       "</table>\n",
       "</div>"
      ],
      "text/plain": [
       "         reports\n",
       "count   5.000000\n",
       "mean   12.800000\n",
       "std    13.663821\n",
       "min     2.000000\n",
       "25%     3.000000\n",
       "50%     4.000000\n",
       "75%    24.000000\n",
       "max    31.000000"
      ]
     },
     "execution_count": 53,
     "metadata": {},
     "output_type": "execute_result"
    }
   ],
   "source": [
    "df2.describe()"
   ]
  },
  {
   "cell_type": "markdown",
   "metadata": {},
   "source": [
    "# Notes\n"
   ]
  },
  {
   "cell_type": "markdown",
   "metadata": {},
   "source": [
    "* first going through current repos and adding whatever appears useful."
   ]
  },
  {
   "cell_type": "code",
   "execution_count": null,
   "metadata": {
    "collapsed": true
   },
   "outputs": [],
   "source": []
  },
  {
   "cell_type": "code",
   "execution_count": null,
   "metadata": {
    "collapsed": true
   },
   "outputs": [],
   "source": []
  },
  {
   "cell_type": "code",
   "execution_count": null,
   "metadata": {
    "collapsed": true
   },
   "outputs": [],
   "source": []
  },
  {
   "cell_type": "code",
   "execution_count": null,
   "metadata": {
    "collapsed": true
   },
   "outputs": [],
   "source": []
  },
  {
   "cell_type": "code",
   "execution_count": null,
   "metadata": {
    "collapsed": true
   },
   "outputs": [],
   "source": []
  },
  {
   "cell_type": "code",
   "execution_count": null,
   "metadata": {
    "collapsed": true
   },
   "outputs": [],
   "source": []
  },
  {
   "cell_type": "code",
   "execution_count": null,
   "metadata": {
    "collapsed": true
   },
   "outputs": [],
   "source": []
  }
 ],
 "metadata": {
  "anaconda-cloud": {},
  "kernelspec": {
   "display_name": "Python [conda root]",
   "language": "python",
   "name": "conda-root-py"
  },
  "language_info": {
   "codemirror_mode": {
    "name": "ipython",
    "version": 3
   },
   "file_extension": ".py",
   "mimetype": "text/x-python",
   "name": "python",
   "nbconvert_exporter": "python",
   "pygments_lexer": "ipython3",
   "version": "3.5.2"
  }
 },
 "nbformat": 4,
 "nbformat_minor": 1
}
