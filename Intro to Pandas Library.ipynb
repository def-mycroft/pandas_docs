{
 "cells": [
  {
   "cell_type": "markdown",
   "metadata": {},
   "source": [
    "# Imports"
   ]
  },
  {
   "cell_type": "code",
   "execution_count": 1,
   "metadata": {
    "collapsed": true
   },
   "outputs": [],
   "source": [
    "# Always import pandas as pd, standard way of importing. \n",
    "import pandas as pd\n",
    "\n",
    "# I have a custom script in this dir which stores ('pickles') python\n",
    "# objects into files. \n",
    "import pickle_funcs as pk "
   ]
  },
  {
   "cell_type": "markdown",
   "metadata": {},
   "source": [
    "# Pickle Functions\n"
   ]
  },
  {
   "cell_type": "markdown",
   "metadata": {},
   "source": [
    "Pickle library allows for Python objects to be saved as files, which can be handy sometimes when working with spreadsheets. I've written a small script which uses the library and makes this easier. \n",
    "\n",
    "Use the command\n",
    "\n",
    "```Python\n",
    "pk.pickle_object(any_python_object, 'filename', test=True)\n",
    "```\n",
    "\n",
    "to pickle any_python_object as 'filename.pickle' (don't include the extension). By default the function makes sure that the object was correctly pickeled by reloading it and comparing the reloaded version to the original. Sometimes the test doesn't work, e.g. when comparing two Pandas dataframes, therefore it can be disabeled by using `test=False`. \n",
    "\n",
    "To load (unpickle) an object: \n",
    "\n",
    "```Python\n",
    "loaded_object = pk.unpickle_object('filename')\n",
    "```\n",
    "\n",
    "Note that it isn't necessary to type the extentions after `filename.` This simply loads the saved object into the script. "
   ]
  }
 ],
 "metadata": {
  "anaconda-cloud": {},
  "kernelspec": {
   "display_name": "Python [conda root]",
   "language": "python",
   "name": "conda-root-py"
  },
  "language_info": {
   "codemirror_mode": {
    "name": "ipython",
    "version": 3
   },
   "file_extension": ".py",
   "mimetype": "text/x-python",
   "name": "python",
   "nbconvert_exporter": "python",
   "pygments_lexer": "ipython3",
   "version": "3.5.2"
  }
 },
 "nbformat": 4,
 "nbformat_minor": 1
}
